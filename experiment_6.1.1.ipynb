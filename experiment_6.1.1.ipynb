{
 "cells": [
  {
   "cell_type": "code",
   "execution_count": 1,
   "metadata": {},
   "outputs": [
    {
     "name": "stdout",
     "output_type": "stream",
     "text": [
      "{'data': array([[5.1, 3.5, 1.4, 0.2],\n",
      "       [4.9, 3. , 1.4, 0.2],\n",
      "       [4.7, 3.2, 1.3, 0.2],\n",
      "       [4.6, 3.1, 1.5, 0.2],\n",
      "       [5. , 3.6, 1.4, 0.2],\n",
      "       [5.4, 3.9, 1.7, 0.4],\n",
      "       [4.6, 3.4, 1.4, 0.3],\n",
      "       [5. , 3.4, 1.5, 0.2],\n",
      "       [4.4, 2.9, 1.4, 0.2],\n",
      "       [4.9, 3.1, 1.5, 0.1],\n",
      "       [5.4, 3.7, 1.5, 0.2],\n",
      "       [4.8, 3.4, 1.6, 0.2],\n",
      "       [4.8, 3. , 1.4, 0.1],\n",
      "       [4.3, 3. , 1.1, 0.1],\n",
      "       [5.8, 4. , 1.2, 0.2],\n",
      "       [5.7, 4.4, 1.5, 0.4],\n",
      "       [5.4, 3.9, 1.3, 0.4],\n",
      "       [5.1, 3.5, 1.4, 0.3],\n",
      "       [5.7, 3.8, 1.7, 0.3],\n",
      "       [5.1, 3.8, 1.5, 0.3],\n",
      "       [5.4, 3.4, 1.7, 0.2],\n",
      "       [5.1, 3.7, 1.5, 0.4],\n",
      "       [4.6, 3.6, 1. , 0.2],\n",
      "       [5.1, 3.3, 1.7, 0.5],\n",
      "       [4.8, 3.4, 1.9, 0.2],\n",
      "       [5. , 3. , 1.6, 0.2],\n",
      "       [5. , 3.4, 1.6, 0.4],\n",
      "       [5.2, 3.5, 1.5, 0.2],\n",
      "       [5.2, 3.4, 1.4, 0.2],\n",
      "       [4.7, 3.2, 1.6, 0.2],\n",
      "       [4.8, 3.1, 1.6, 0.2],\n",
      "       [5.4, 3.4, 1.5, 0.4],\n",
      "       [5.2, 4.1, 1.5, 0.1],\n",
      "       [5.5, 4.2, 1.4, 0.2],\n",
      "       [4.9, 3.1, 1.5, 0.1],\n",
      "       [5. , 3.2, 1.2, 0.2],\n",
      "       [5.5, 3.5, 1.3, 0.2],\n",
      "       [4.9, 3.1, 1.5, 0.1],\n",
      "       [4.4, 3. , 1.3, 0.2],\n",
      "       [5.1, 3.4, 1.5, 0.2],\n",
      "       [5. , 3.5, 1.3, 0.3],\n",
      "       [4.5, 2.3, 1.3, 0.3],\n",
      "       [4.4, 3.2, 1.3, 0.2],\n",
      "       [5. , 3.5, 1.6, 0.6],\n",
      "       [5.1, 3.8, 1.9, 0.4],\n",
      "       [4.8, 3. , 1.4, 0.3],\n",
      "       [5.1, 3.8, 1.6, 0.2],\n",
      "       [4.6, 3.2, 1.4, 0.2],\n",
      "       [5.3, 3.7, 1.5, 0.2],\n",
      "       [5. , 3.3, 1.4, 0.2],\n",
      "       [7. , 3.2, 4.7, 1.4],\n",
      "       [6.4, 3.2, 4.5, 1.5],\n",
      "       [6.9, 3.1, 4.9, 1.5],\n",
      "       [5.5, 2.3, 4. , 1.3],\n",
      "       [6.5, 2.8, 4.6, 1.5],\n",
      "       [5.7, 2.8, 4.5, 1.3],\n",
      "       [6.3, 3.3, 4.7, 1.6],\n",
      "       [4.9, 2.4, 3.3, 1. ],\n",
      "       [6.6, 2.9, 4.6, 1.3],\n",
      "       [5.2, 2.7, 3.9, 1.4],\n",
      "       [5. , 2. , 3.5, 1. ],\n",
      "       [5.9, 3. , 4.2, 1.5],\n",
      "       [6. , 2.2, 4. , 1. ],\n",
      "       [6.1, 2.9, 4.7, 1.4],\n",
      "       [5.6, 2.9, 3.6, 1.3],\n",
      "       [6.7, 3.1, 4.4, 1.4],\n",
      "       [5.6, 3. , 4.5, 1.5],\n",
      "       [5.8, 2.7, 4.1, 1. ],\n",
      "       [6.2, 2.2, 4.5, 1.5],\n",
      "       [5.6, 2.5, 3.9, 1.1],\n",
      "       [5.9, 3.2, 4.8, 1.8],\n",
      "       [6.1, 2.8, 4. , 1.3],\n",
      "       [6.3, 2.5, 4.9, 1.5],\n",
      "       [6.1, 2.8, 4.7, 1.2],\n",
      "       [6.4, 2.9, 4.3, 1.3],\n",
      "       [6.6, 3. , 4.4, 1.4],\n",
      "       [6.8, 2.8, 4.8, 1.4],\n",
      "       [6.7, 3. , 5. , 1.7],\n",
      "       [6. , 2.9, 4.5, 1.5],\n",
      "       [5.7, 2.6, 3.5, 1. ],\n",
      "       [5.5, 2.4, 3.8, 1.1],\n",
      "       [5.5, 2.4, 3.7, 1. ],\n",
      "       [5.8, 2.7, 3.9, 1.2],\n",
      "       [6. , 2.7, 5.1, 1.6],\n",
      "       [5.4, 3. , 4.5, 1.5],\n",
      "       [6. , 3.4, 4.5, 1.6],\n",
      "       [6.7, 3.1, 4.7, 1.5],\n",
      "       [6.3, 2.3, 4.4, 1.3],\n",
      "       [5.6, 3. , 4.1, 1.3],\n",
      "       [5.5, 2.5, 4. , 1.3],\n",
      "       [5.5, 2.6, 4.4, 1.2],\n",
      "       [6.1, 3. , 4.6, 1.4],\n",
      "       [5.8, 2.6, 4. , 1.2],\n",
      "       [5. , 2.3, 3.3, 1. ],\n",
      "       [5.6, 2.7, 4.2, 1.3],\n",
      "       [5.7, 3. , 4.2, 1.2],\n",
      "       [5.7, 2.9, 4.2, 1.3],\n",
      "       [6.2, 2.9, 4.3, 1.3],\n",
      "       [5.1, 2.5, 3. , 1.1],\n",
      "       [5.7, 2.8, 4.1, 1.3],\n",
      "       [6.3, 3.3, 6. , 2.5],\n",
      "       [5.8, 2.7, 5.1, 1.9],\n",
      "       [7.1, 3. , 5.9, 2.1],\n",
      "       [6.3, 2.9, 5.6, 1.8],\n",
      "       [6.5, 3. , 5.8, 2.2],\n",
      "       [7.6, 3. , 6.6, 2.1],\n",
      "       [4.9, 2.5, 4.5, 1.7],\n",
      "       [7.3, 2.9, 6.3, 1.8],\n",
      "       [6.7, 2.5, 5.8, 1.8],\n",
      "       [7.2, 3.6, 6.1, 2.5],\n",
      "       [6.5, 3.2, 5.1, 2. ],\n",
      "       [6.4, 2.7, 5.3, 1.9],\n",
      "       [6.8, 3. , 5.5, 2.1],\n",
      "       [5.7, 2.5, 5. , 2. ],\n",
      "       [5.8, 2.8, 5.1, 2.4],\n",
      "       [6.4, 3.2, 5.3, 2.3],\n",
      "       [6.5, 3. , 5.5, 1.8],\n",
      "       [7.7, 3.8, 6.7, 2.2],\n",
      "       [7.7, 2.6, 6.9, 2.3],\n",
      "       [6. , 2.2, 5. , 1.5],\n",
      "       [6.9, 3.2, 5.7, 2.3],\n",
      "       [5.6, 2.8, 4.9, 2. ],\n",
      "       [7.7, 2.8, 6.7, 2. ],\n",
      "       [6.3, 2.7, 4.9, 1.8],\n",
      "       [6.7, 3.3, 5.7, 2.1],\n",
      "       [7.2, 3.2, 6. , 1.8],\n",
      "       [6.2, 2.8, 4.8, 1.8],\n",
      "       [6.1, 3. , 4.9, 1.8],\n",
      "       [6.4, 2.8, 5.6, 2.1],\n",
      "       [7.2, 3. , 5.8, 1.6],\n",
      "       [7.4, 2.8, 6.1, 1.9],\n",
      "       [7.9, 3.8, 6.4, 2. ],\n",
      "       [6.4, 2.8, 5.6, 2.2],\n",
      "       [6.3, 2.8, 5.1, 1.5],\n",
      "       [6.1, 2.6, 5.6, 1.4],\n",
      "       [7.7, 3. , 6.1, 2.3],\n",
      "       [6.3, 3.4, 5.6, 2.4],\n",
      "       [6.4, 3.1, 5.5, 1.8],\n",
      "       [6. , 3. , 4.8, 1.8],\n",
      "       [6.9, 3.1, 5.4, 2.1],\n",
      "       [6.7, 3.1, 5.6, 2.4],\n",
      "       [6.9, 3.1, 5.1, 2.3],\n",
      "       [5.8, 2.7, 5.1, 1.9],\n",
      "       [6.8, 3.2, 5.9, 2.3],\n",
      "       [6.7, 3.3, 5.7, 2.5],\n",
      "       [6.7, 3. , 5.2, 2.3],\n",
      "       [6.3, 2.5, 5. , 1.9],\n",
      "       [6.5, 3. , 5.2, 2. ],\n",
      "       [6.2, 3.4, 5.4, 2.3],\n",
      "       [5.9, 3. , 5.1, 1.8]]), 'target': array([0, 0, 0, 0, 0, 0, 0, 0, 0, 0, 0, 0, 0, 0, 0, 0, 0, 0, 0, 0, 0, 0,\n",
      "       0, 0, 0, 0, 0, 0, 0, 0, 0, 0, 0, 0, 0, 0, 0, 0, 0, 0, 0, 0, 0, 0,\n",
      "       0, 0, 0, 0, 0, 0, 1, 1, 1, 1, 1, 1, 1, 1, 1, 1, 1, 1, 1, 1, 1, 1,\n",
      "       1, 1, 1, 1, 1, 1, 1, 1, 1, 1, 1, 1, 1, 1, 1, 1, 1, 1, 1, 1, 1, 1,\n",
      "       1, 1, 1, 1, 1, 1, 1, 1, 1, 1, 1, 1, 2, 2, 2, 2, 2, 2, 2, 2, 2, 2,\n",
      "       2, 2, 2, 2, 2, 2, 2, 2, 2, 2, 2, 2, 2, 2, 2, 2, 2, 2, 2, 2, 2, 2,\n",
      "       2, 2, 2, 2, 2, 2, 2, 2, 2, 2, 2, 2, 2, 2, 2, 2, 2, 2]), 'target_names': array(['setosa', 'versicolor', 'virginica'], dtype='<U10'), 'DESCR': 'Iris Plants Database\\n====================\\n\\nNotes\\n-----\\nData Set Characteristics:\\n    :Number of Instances: 150 (50 in each of three classes)\\n    :Number of Attributes: 4 numeric, predictive attributes and the class\\n    :Attribute Information:\\n        - sepal length in cm\\n        - sepal width in cm\\n        - petal length in cm\\n        - petal width in cm\\n        - class:\\n                - Iris-Setosa\\n                - Iris-Versicolour\\n                - Iris-Virginica\\n    :Summary Statistics:\\n\\n    ============== ==== ==== ======= ===== ====================\\n                    Min  Max   Mean    SD   Class Correlation\\n    ============== ==== ==== ======= ===== ====================\\n    sepal length:   4.3  7.9   5.84   0.83    0.7826\\n    sepal width:    2.0  4.4   3.05   0.43   -0.4194\\n    petal length:   1.0  6.9   3.76   1.76    0.9490  (high!)\\n    petal width:    0.1  2.5   1.20  0.76     0.9565  (high!)\\n    ============== ==== ==== ======= ===== ====================\\n\\n    :Missing Attribute Values: None\\n    :Class Distribution: 33.3% for each of 3 classes.\\n    :Creator: R.A. Fisher\\n    :Donor: Michael Marshall (MARSHALL%PLU@io.arc.nasa.gov)\\n    :Date: July, 1988\\n\\nThis is a copy of UCI ML iris datasets.\\nhttp://archive.ics.uci.edu/ml/datasets/Iris\\n\\nThe famous Iris database, first used by Sir R.A Fisher\\n\\nThis is perhaps the best known database to be found in the\\npattern recognition literature.  Fisher\\'s paper is a classic in the field and\\nis referenced frequently to this day.  (See Duda & Hart, for example.)  The\\ndata set contains 3 classes of 50 instances each, where each class refers to a\\ntype of iris plant.  One class is linearly separable from the other 2; the\\nlatter are NOT linearly separable from each other.\\n\\nReferences\\n----------\\n   - Fisher,R.A. \"The use of multiple measurements in taxonomic problems\"\\n     Annual Eugenics, 7, Part II, 179-188 (1936); also in \"Contributions to\\n     Mathematical Statistics\" (John Wiley, NY, 1950).\\n   - Duda,R.O., & Hart,P.E. (1973) Pattern Classification and Scene Analysis.\\n     (Q327.D83) John Wiley & Sons.  ISBN 0-471-22361-1.  See page 218.\\n   - Dasarathy, B.V. (1980) \"Nosing Around the Neighborhood: A New System\\n     Structure and Classification Rule for Recognition in Partially Exposed\\n     Environments\".  IEEE Transactions on Pattern Analysis and Machine\\n     Intelligence, Vol. PAMI-2, No. 1, 67-71.\\n   - Gates, G.W. (1972) \"The Reduced Nearest Neighbor Rule\".  IEEE Transactions\\n     on Information Theory, May 1972, 431-433.\\n   - See also: 1988 MLC Proceedings, 54-64.  Cheeseman et al\"s AUTOCLASS II\\n     conceptual clustering system finds 3 classes in the data.\\n   - Many, many more ...\\n', 'feature_names': ['sepal length (cm)', 'sepal width (cm)', 'petal length (cm)', 'petal width (cm)']}\n"
     ]
    }
   ],
   "source": [
    "from sklearn.datasets import load_iris #从sklearn中导入鸢尾花的数据集\n",
    "iris = load_iris()\n",
    "#print(iris['DESCR']) #输出iris鸢尾花数据集的描述\n",
    "print(iris)"
   ]
  },
  {
   "cell_type": "code",
   "execution_count": 2,
   "metadata": {},
   "outputs": [
    {
     "name": "stdout",
     "output_type": "stream",
     "text": [
      "[0.2 0.2 0.2 0.2 0.2 0.4 0.3 0.2 0.2 0.1 0.2 0.2 0.1 0.1 0.2 0.4 0.4 0.3\n",
      " 0.3 0.3 0.2 0.4 0.2 0.5 0.2 0.2 0.4 0.2 0.2 0.2 0.2 0.4 0.1 0.2 0.1 0.2\n",
      " 0.2 0.1 0.2 0.2 0.3 0.3 0.2 0.6 0.4 0.3 0.2 0.2 0.2 0.2 1.4 1.5 1.5 1.3\n",
      " 1.5 1.3 1.6 1.  1.3 1.4 1.  1.5 1.  1.4 1.3 1.4 1.5 1.  1.5 1.1 1.8 1.3\n",
      " 1.5 1.2 1.3 1.4 1.4 1.7 1.5 1.  1.1 1.  1.2 1.6 1.5 1.6 1.5 1.3 1.3 1.3\n",
      " 1.2 1.4 1.2 1.  1.3 1.2 1.3 1.3 1.1 1.3 2.5 1.9 2.1 1.8 2.2 2.1 1.7 1.8\n",
      " 1.8 2.5 2.  1.9 2.1 2.  2.4 2.3 1.8 2.2 2.3 1.5 2.3 2.  2.  1.8 2.1 1.8\n",
      " 1.8 1.8 2.1 1.6 1.9 2.  2.2 1.5 1.4 2.3 2.4 1.8 1.8 2.1 2.4 2.3 1.9 2.3\n",
      " 2.5 2.3 1.9 2.  2.3 1.8]\n"
     ]
    },
    {
     "data": {
      "text/plain": [
       "<matplotlib.collections.PathCollection at 0x1a12943c18>"
      ]
     },
     "execution_count": 2,
     "metadata": {},
     "output_type": "execute_result"
    }
   ],
   "source": [
    "ir = iris['data']\n",
    "#根据6.2的描述，第1步我们只需要花瓣长度(petal length)和花瓣宽度(petal width)两个特征\n",
    "data = ir[:,[2,3]]\n",
    "label = iris.target\n",
    "import numpy as np\n",
    "from matplotlib import pyplot as plt\n",
    "print (data[:,1])\n",
    "plt.scatter(data[:,0],data[:,1], c='r',s=7)"
   ]
  },
  {
   "cell_type": "code",
   "execution_count": 3,
   "metadata": {},
   "outputs": [],
   "source": [
    "#两点之间的计算欧式距离\n",
    "def distance(a,b): \n",
    "    return np.sqrt(np.sum((a-b)**2))\n",
    "    "
   ]
  },
  {
   "cell_type": "code",
   "execution_count": 4,
   "metadata": {},
   "outputs": [],
   "source": [
    "#随机选择K个质心\n",
    "def center(dataset,k):\n",
    "    n = dataset.shape[1] #获取特征的维数\n",
    "    centroids = np.empty((k,n)) #生成一个k*n的矩阵，用于存储质心\n",
    "    for i in range(n):\n",
    "        rangemin, rangemax = np.min(dataset[:,i]), np.max(dataset[:,i])\n",
    "        centroids[:,i] = rangemin + float(rangemax - rangemin) * np.random.rand(k)\n",
    "        #让随机数都在给定的数据范围之内\n",
    "    return centroids"
   ]
  },
  {
   "cell_type": "code",
   "execution_count": 5,
   "metadata": {},
   "outputs": [],
   "source": [
    "# 让质心位置迭代耦合\n",
    "n = data.shape[0]\n",
    "k = 3\n",
    "clusterAssment = np.zeros((n,2)) #设定一个矩阵，用来记录label和distance^2\n",
    "centroids = center(data, k)\n",
    "def kmeans (dataset, k):\n",
    "    clusterChanged = True   #定义clusterChanged用来进行耦合，最终该值不再变化\n",
    "    while clusterChanged:   #当clusterChanged不再变化时，循环停止\n",
    "        clusterChanged = False\n",
    "        for i in range(n):\n",
    "            dist_min = np.inf #初始化最小距离为无限大\n",
    "            fitlabel = -1 #初始化类值为-1\n",
    "            for j in range(k): #寻找最近质心\n",
    "                dist = distance(dataset[i],centroids[j])\n",
    "                if dist < dist_min:\n",
    "                    dist_min = dist #更新最小距离\n",
    "                    fitlabel = j    #更新类值\n",
    "            if clusterAssment[i,0] != fitlabel:\n",
    "                clusterChanged = True\n",
    "            clusterAssment[i,:] = fitlabel, dist_min**2\n",
    "        for l in range(k): #更新质心，将每个蔟中数据点的均值作为质心坐标\n",
    "            fitlabel_all = clusterAssment[:,0] \n",
    "            value = np.nonzero(fitlabel_all == l)\n",
    "            sampleInClust = dataset[value[0]]\n",
    "            centroids[l] = np.mean(sampleInClust, axis=0) \n",
    "    return centroids, clusterAssment"
   ]
  },
  {
   "cell_type": "code",
   "execution_count": 6,
   "metadata": {},
   "outputs": [
    {
     "name": "stderr",
     "output_type": "stream",
     "text": [
      "/anaconda3/lib/python3.6/site-packages/numpy/core/fromnumeric.py:2957: RuntimeWarning: Mean of empty slice.\n",
      "  out=out, **kwargs)\n",
      "/anaconda3/lib/python3.6/site-packages/numpy/core/_methods.py:73: RuntimeWarning: invalid value encountered in true_divide\n",
      "  ret, rcount, out=ret, casting='unsafe', subok=False)\n"
     ]
    }
   ],
   "source": [
    "kmeans(data, k)\n",
    "data0 = data[clusterAssment[:,0]==0]\n",
    "data1 = data[clusterAssment[:,0]==1]\n",
    "data2 = data[clusterAssment[:,0]==2]"
   ]
  },
  {
   "cell_type": "code",
   "execution_count": 7,
   "metadata": {},
   "outputs": [
    {
     "data": {
      "image/png": "[encoded data removed]",
      "text/plain": [
       "<matplotlib.figure.Figure at 0x1a0beb78d0>"
      ]
     },
     "metadata": {},
     "output_type": "display_data"
    }
   ],
   "source": [
    "#画出初始化聚类图\n",
    "f = plt.figure(figsize=(10,20))\n",
    "ax1 = f.add_subplot(3,1,1)\n",
    "ax1.scatter(data[:,0],data[:,1],c='c',s=30,marker='o')\n",
    "ax2 = f.add_subplot(3,1,2)\n",
    "ax2.scatter(data0[:,0],data0[:,1],c='r')\n",
    "ax2.scatter(data1[:,0],data1[:,1],c='g')\n",
    "ax2.scatter(data2[:,0],data2[:,1],c='b')\n",
    "ax2.scatter(centroids[0,0],centroids[0,1],c='r',s=300,marker='s')\n",
    "ax2.scatter(centroids[1,0],centroids[1,1],c='g',s=300,marker='s')\n",
    "ax2.scatter(centroids[2,0],centroids[2,1],c='b',s=300,marker='s')\n",
    "plt.show()"
   ]
  },
  {
   "cell_type": "code",
   "execution_count": 12,
   "metadata": {},
   "outputs": [
    {
     "name": "stdout",
     "output_type": "stream",
     "text": [
      "(array([ 77,  83, 100, 101, 102, 103, 104, 105, 107, 108, 109, 110, 111,\n",
      "       112, 113, 114, 115, 116, 117, 118, 120, 121, 122, 123, 124, 125,\n",
      "       127, 128, 129, 130, 131, 132, 133, 134, 135, 136, 137, 139, 140,\n",
      "       141, 142, 143, 144, 145, 146, 147, 148, 149]),)\n",
      "48\n",
      "0.0 4.166666666666666 95.83333333333334\n"
     ]
    }
   ],
   "source": [
    "#统计聚类结果中不同类别花的数量\n",
    "#在数据data0中各种不同类别花数量的比例\n",
    "fitlabel_all = clusterAssment[:,0]\n",
    "value = np.nonzero(fitlabel_all == 0)\n",
    "print (value)\n",
    "a_list = iris.target[value[0]]\n",
    "print (len(a_list))\n",
    "i = 0\n",
    "se0 = 0\n",
    "ve0 = 0\n",
    "vi0 = 0\n",
    "for i in range(len(a_list)):\n",
    "    if a_list[i] == 0: se0 += 1\n",
    "    elif a_list[i] == 1: ve0 += 1\n",
    "    else: vi0 += 1\n",
    "    \n",
    "se_percent = (se0/len(a_list))*100\n",
    "ve_percent = (ve0/len(a_list))*100\n",
    "vi_percent = (vi0/len(a_list))*100\n",
    "print (se_percent,ve_percent,vi_percent)"
   ]
  },
  {
   "cell_type": "code",
   "execution_count": 9,
   "metadata": {},
   "outputs": [
    {
     "data": {
      "text/plain": [
       "<function matplotlib.pyplot.show>"
      ]
     },
     "execution_count": 9,
     "metadata": {},
     "output_type": "execute_result"
    },
    {
     "data": {
      "image/png": "[encoded data removed]",
      "text/plain": [
       "<matplotlib.figure.Figure at 0x1a1a72c7f0>"
      ]
     },
     "metadata": {},
     "output_type": "display_data"
    }
   ],
   "source": [
    "plt.figure(figsize=(6,9))\n",
    "labels = [u'Iris-Setosa',u'Iris-Versicolour',u'Iris-Virginica']\n",
    "#Iris-Setosa 山鸢尾\n",
    "#Iris-Versicolour 杂色鸢尾\n",
    "#Iris-Virginica 维吉尼亚鸢尾\n",
    "sizes = [se_percent,ve_percent,vi_percent]\n",
    "colors = ['blue','orange','gray']\n",
    "explode = (0.05,0,0)\n",
    "plt.pie(sizes,explode=explode,labels=labels,colors=colors,\n",
    "                                labeldistance = 1.1,autopct = '%3.1f%%',shadow = False,\n",
    "                                startangle = 90,pctdistance = 0.6)\n",
    "plt.axis('equal')\n",
    "plt.legend()\n",
    "plt.show"
   ]
  },
  {
   "cell_type": "code",
   "execution_count": 10,
   "metadata": {},
   "outputs": [
    {
     "name": "stdout",
     "output_type": "stream",
     "text": [
      "48\n",
      "0.0 4.166666666666666 95.83333333333334\n"
     ]
    }
   ],
   "source": [
    "#统计聚类结果中不同类别花的数量\n",
    "#在数据data1中各种不同类别花数量的比例\n",
    "fitlabel_all = clusterAssment[:,0]\n",
    "value = np.nonzero(fitlabel_all == 1)\n",
    "b_list = iris.target[value[0]]\n",
    "print(len(b_list))\n",
    "i = 0\n",
    "se1 = 0\n",
    "ve1 = 0\n",
    "vi1 = 0\n",
    "for i in range(len(b_list)):\n",
    "    if b_list[i] == 0: se1 += 1\n",
    "    elif b_list[i] == 1: ve1 += 1\n",
    "    else: vi1 += 1\n",
    "    \n",
    "se_percent = (se1/len(b_list))*100\n",
    "ve_percent = (ve1/len(b_list))*100\n",
    "vi_percent = (vi1/len(b_list))*100\n",
    "print (se_percent,ve_percent,vi_percent)"
   ]
  },
  {
   "cell_type": "code",
   "execution_count": 11,
   "metadata": {},
   "outputs": [
    {
     "data": {
      "text/plain": [
       "<function matplotlib.pyplot.show>"
      ]
     },
     "execution_count": 11,
     "metadata": {},
     "output_type": "execute_result"
    },
    {
     "data": {
      "image/png": "[encoded data removed]",
      "text/plain": [
       "<matplotlib.figure.Figure at 0x1a1ae766d8>"
      ]
     },
     "metadata": {},
     "output_type": "display_data"
    }
   ],
   "source": [
    "plt.figure(figsize=(6,9))\n",
    "labels = [u'Iris-Setosa',u'Iris-Versicolour',u'Iris-Virginica']\n",
    "#Iris-Setosa 山鸢尾\n",
    "#Iris-Versicolour 杂色鸢尾\n",
    "#Iris-Virginica 维吉尼亚鸢尾\n",
    "sizes = [se_percent,ve_percent,vi_percent]\n",
    "colors = ['blue','orange','gray']\n",
    "explode = (0.05,0,0)\n",
    "plt.pie(sizes,explode=explode,labels=labels,colors=colors,\n",
    "                                labeldistance = 1.1,autopct = '%3.1f%%',shadow = False,\n",
    "                                startangle = 90,pctdistance = 0.6)\n",
    "plt.axis('equal')\n",
    "plt.legend()\n",
    "plt.show"
   ]
  },
  {
   "cell_type": "code",
   "execution_count": 12,
   "metadata": {},
   "outputs": [
    {
     "name": "stdout",
     "output_type": "stream",
     "text": [
      "52\n",
      "0.0 92.3076923076923 7.6923076923076925\n"
     ]
    }
   ],
   "source": [
    "#在数据data0中各种不同类别花数量的比例\n",
    "fitlabel_all = clusterAssment[:,0]\n",
    "value = np.nonzero(fitlabel_all == 2)\n",
    "c_list = iris.target[value[0]]\n",
    "print(len(c_list))\n",
    "i = 0\n",
    "se2 = 0\n",
    "ve2 = 0\n",
    "vi2 = 0\n",
    "for i in range(len(c_list)):\n",
    "    if c_list[i] == 0: se2 += 1\n",
    "    elif c_list[i] == 1: ve2 += 1\n",
    "    else: vi2 += 1\n",
    "    \n",
    "se_percent = (se2/len(c_list))*100\n",
    "ve_percent = (ve2/len(c_list))*100\n",
    "vi_percent = (vi2/len(c_list))*100\n",
    "print (se_percent,ve_percent,vi_percent)"
   ]
  },
  {
   "cell_type": "code",
   "execution_count": 13,
   "metadata": {},
   "outputs": [
    {
     "data": {
      "text/plain": [
       "<function matplotlib.pyplot.show>"
      ]
     },
     "execution_count": 13,
     "metadata": {},
     "output_type": "execute_result"
    },
    {
     "data": {
      "image/png": "[encoded data removed]",
      "text/plain": [
       "<matplotlib.figure.Figure at 0x1a1abc4198>"
      ]
     },
     "metadata": {},
     "output_type": "display_data"
    }
   ],
   "source": [
    "plt.figure(figsize=(6,9))\n",
    "labels = [u'Iris-Setosa',u'Iris-Versicolour',u'Iris-Virginica']\n",
    "#Iris-Setosa 山鸢尾\n",
    "#Iris-Versicolour 杂色鸢尾\n",
    "#Iris-Virginica 维吉尼亚鸢尾\n",
    "sizes = [se_percent,ve_percent,vi_percent]\n",
    "colors = ['blue','orange','gray']\n",
    "explode = (0.05,0,0)\n",
    "plt.pie(sizes,explode=explode,labels=labels,colors=colors,\n",
    "                                labeldistance = 1.1,autopct = '%3.1f%%',shadow = False,\n",
    "                                startangle = 90,pctdistance = 0.6)\n",
    "plt.axis('equal')\n",
    "plt.legend()\n",
    "plt.show"
   ]
  },
  {
   "cell_type": "code",
   "execution_count": null,
   "metadata": {},
   "outputs": [],
   "source": []
  }
 ],
 "metadata": {
  "kernelspec": {
   "display_name": "Python 3",
   "language": "python",
   "name": "python3"
  },
  "language_info": {
   "codemirror_mode": {
    "name": "ipython",
    "version": 3
   },
   "file_extension": ".py",
   "mimetype": "text/x-python",
   "name": "python",
   "nbconvert_exporter": "python",
   "pygments_lexer": "ipython3",
   "version": "3.6.4"
  }
 },
 "nbformat": 4,
 "nbformat_minor": 2
}
