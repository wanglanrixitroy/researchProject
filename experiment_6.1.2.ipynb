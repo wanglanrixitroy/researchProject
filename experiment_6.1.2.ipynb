{
 "cells": [
  {
   "cell_type": "code",
   "execution_count": 1,
   "metadata": {},
   "outputs": [],
   "source": [
    "from sklearn.datasets import load_iris #从sklearn中导入鸢尾花的数据集\n",
    "iris = load_iris()\n",
    "#print(iris['DESCR']) #输出iris鸢尾花数据集的描述"
   ]
  },
  {
   "cell_type": "code",
   "execution_count": 2,
   "metadata": {},
   "outputs": [],
   "source": [
    "ir = iris['data']\n",
    "#根据6.2的描述，第1步我们只需要花瓣长度(petal length)和花瓣宽度(petal width)两个特征\n",
    "data = ir[:,[0,1,2,3]]\n",
    "#print (data)\n",
    "label = iris.target\n",
    "import numpy as np\n",
    "from matplotlib import pyplot as plt"
   ]
  },
  {
   "cell_type": "code",
   "execution_count": 3,
   "metadata": {},
   "outputs": [],
   "source": [
    "#两点之间的计算欧式距离\n",
    "def distance(a,b): \n",
    "    return np.sqrt(np.sum((a-b)**2))"
   ]
  },
  {
   "cell_type": "code",
   "execution_count": 18,
   "metadata": {},
   "outputs": [],
   "source": [
    "#随机选择K个质心\n",
    "def center(dataset,k):\n",
    "    n = dataset.shape[1] #获取特征的维数    \n",
    "    centroids = np.empty((k,n)) #生成一个k*n的矩阵，用于存储质心\n",
    "    for i in range(n):\n",
    "        rangemin, rangemax = np.min(dataset[:,i]), np.max(dataset[:,i])\n",
    "        centroids[:,i] = rangemin + float(rangemax - rangemin) * np.random.rand(k)\n",
    "        #让随机数都在给定的数据范围之内\n",
    "    return centroids"
   ]
  },
  {
   "cell_type": "code",
   "execution_count": 19,
   "metadata": {},
   "outputs": [],
   "source": [
    "# 让质心位置迭代耦合\n",
    "n = data.shape[0]\n",
    "m = data.shape[1]\n",
    "k = 3\n",
    "clusterAssment = np.zeros((n,2)) #设定一个矩阵，用来记录label和distance^2\n",
    "centroids = center(data, k)\n",
    "def kmeans (dataset, k):\n",
    "    clusterChanged = True   #定义clusterChanged用来进行耦合，最终该值不再变化\n",
    "    while clusterChanged:   #当clusterChanged不再变化时，循环停止\n",
    "        clusterChanged = False\n",
    "        for i in range(n):\n",
    "            dist_min = np.inf #初始化最小距离为无限大\n",
    "            fitlabel = -1 #初始化类值为-1\n",
    "            for j in range(k): #寻找最近质心\n",
    "                dist = distance(dataset[i],centroids[j])\n",
    "                if dist < dist_min:\n",
    "                    dist_min = dist #更新最小距离\n",
    "                    fitlabel = j    #更新类值\n",
    "            if clusterAssment[i,0] != fitlabel:\n",
    "                clusterChanged = True\n",
    "            clusterAssment[i,:] = fitlabel, dist_min**2\n",
    "        for l in range(k): #更新质心，将每个蔟中数据点的均值作为质心坐标\n",
    "            fitlabel_all = clusterAssment[:,0] \n",
    "            value = np.nonzero(fitlabel_all == l)\n",
    "            sampleInClust = dataset[value[0]]\n",
    "            centroids[l] = np.mean(sampleInClust, axis=0) \n",
    "    return centroids, clusterAssment"
   ]
  },
  {
   "cell_type": "code",
   "execution_count": 6,
   "metadata": {},
   "outputs": [],
   "source": [
    "kmeans(data, k)\n",
    "data0 = data[clusterAssment[:,0]==0]\n",
    "data1 = data[clusterAssment[:,0]==1]\n",
    "data2 = data[clusterAssment[:,0]==2]"
   ]
  },
  {
   "cell_type": "code",
   "execution_count": 7,
   "metadata": {},
   "outputs": [
    {
     "name": "stdout",
     "output_type": "stream",
     "text": [
      "61\n",
      "0.0 77.04918032786885 22.950819672131146\n"
     ]
    }
   ],
   "source": [
    "#统计聚类结果中不同类别花的数量\n",
    "#在数据data0中各种不同类别花数量的比例\n",
    "fitlabel_all = clusterAssment[:,0]\n",
    "value = np.nonzero(fitlabel_all == 0)\n",
    "a_list = iris.target[value[0]]\n",
    "print(len(a_list))\n",
    "i = 0\n",
    "se0 = 0\n",
    "ve0 = 0\n",
    "vi0 = 0\n",
    "for i in range(len(a_list)):\n",
    "    if a_list[i] == 0: se0 += 1\n",
    "    elif a_list[i] == 1: ve0 += 1\n",
    "    else: vi0 += 1\n",
    "    \n",
    "se_percent = (se0/len(a_list))*100\n",
    "ve_percent = (ve0/len(a_list))*100\n",
    "vi_percent = (vi0/len(a_list))*100\n",
    "print (se_percent,ve_percent,vi_percent)"
   ]
  },
  {
   "cell_type": "code",
   "execution_count": 8,
   "metadata": {},
   "outputs": [
    {
     "data": {
      "text/plain": [
       "<function matplotlib.pyplot.show>"
      ]
     },
     "execution_count": 8,
     "metadata": {},
     "output_type": "execute_result"
    },
    {
     "data": {
      "image/png": "[encoded data removed]",
      "text/plain": [
       "<matplotlib.figure.Figure at 0x1a0c7175c0>"
      ]
     },
     "metadata": {},
     "output_type": "display_data"
    }
   ],
   "source": [
    "plt.figure(figsize=(6,9))\n",
    "labels = [u'Iris-Setosa',u'Iris-Versicolour',u'Iris-Virginica']\n",
    "#Iris-Setosa 山鸢尾\n",
    "#Iris-Versicolour 杂色鸢尾\n",
    "#Iris-Virginica 维吉尼亚鸢尾\n",
    "sizes = [se_percent,ve_percent,vi_percent]\n",
    "colors = ['blue','orange','gray']\n",
    "explode = (0.05,0,0)\n",
    "plt.pie(sizes,explode=explode,labels=labels,colors=colors,\n",
    "                                labeldistance = 1.1,autopct = '%3.1f%%',shadow = False,\n",
    "                                startangle = 90,pctdistance = 0.6)\n",
    "plt.axis('equal')\n",
    "plt.legend()\n",
    "plt.show"
   ]
  },
  {
   "cell_type": "code",
   "execution_count": 9,
   "metadata": {},
   "outputs": [
    {
     "name": "stdout",
     "output_type": "stream",
     "text": [
      "39\n",
      "0.0 7.6923076923076925 92.3076923076923\n"
     ]
    }
   ],
   "source": [
    "#统计聚类结果中不同类别花的数量\n",
    "#在数据data1中各种不同类别花数量的比例\n",
    "fitlabel_all = clusterAssment[:,0]\n",
    "value = np.nonzero(fitlabel_all == 1)\n",
    "b_list = iris.target[value[0]]\n",
    "print(len(b_list))\n",
    "i = 0\n",
    "se1 = 0\n",
    "ve1 = 0\n",
    "vi1 = 0\n",
    "for i in range(len(b_list)):\n",
    "    if b_list[i] == 0: se1 += 1\n",
    "    elif b_list[i] == 1: ve1 += 1\n",
    "    else: vi1 += 1\n",
    "    \n",
    "se_percent = (se1/len(b_list))*100\n",
    "ve_percent = (ve1/len(b_list))*100\n",
    "vi_percent = (vi1/len(b_list))*100\n",
    "print (se_percent,ve_percent,vi_percent)"
   ]
  },
  {
   "cell_type": "code",
   "execution_count": 10,
   "metadata": {},
   "outputs": [
    {
     "data": {
      "text/plain": [
       "<function matplotlib.pyplot.show>"
      ]
     },
     "execution_count": 10,
     "metadata": {},
     "output_type": "execute_result"
    },
    {
     "data": {
      "image/png": "[encoded data removed]",
      "text/plain": [
       "<matplotlib.figure.Figure at 0x1a1219f3c8>"
      ]
     },
     "metadata": {},
     "output_type": "display_data"
    }
   ],
   "source": [
    "plt.figure(figsize=(6,9))\n",
    "labels = [u'Iris-Setosa',u'Iris-Versicolour',u'Iris-Virginica']\n",
    "#Iris-Setosa 山鸢尾\n",
    "#Iris-Versicolour 杂色鸢尾\n",
    "#Iris-Virginica 维吉尼亚鸢尾\n",
    "sizes = [se_percent,ve_percent,vi_percent]\n",
    "colors = ['blue','orange','gray']\n",
    "explode = (0.05,0,0)\n",
    "plt.pie(sizes,explode=explode,labels=labels,colors=colors,\n",
    "                                labeldistance = 1.1,autopct = '%3.1f%%',shadow = False,\n",
    "                                startangle = 90,pctdistance = 0.6)\n",
    "plt.axis('equal')\n",
    "plt.legend()\n",
    "plt.show"
   ]
  },
  {
   "cell_type": "code",
   "execution_count": 11,
   "metadata": {},
   "outputs": [
    {
     "name": "stdout",
     "output_type": "stream",
     "text": [
      "50\n",
      "100.0 0.0 0.0\n"
     ]
    }
   ],
   "source": [
    "#在数据data0中各种不同类别花数量的比例\n",
    "fitlabel_all = clusterAssment[:,0]\n",
    "value = np.nonzero(fitlabel_all == 2)\n",
    "c_list = iris.target[value[0]]\n",
    "print(len(c_list))\n",
    "i = 0\n",
    "se2 = 0\n",
    "ve2 = 0\n",
    "vi2 = 0\n",
    "for i in range(len(c_list)):\n",
    "    if c_list[i] == 0: se2 += 1\n",
    "    elif c_list[i] == 1: ve2 += 1\n",
    "    else: vi2 += 1\n",
    "    \n",
    "se_percent = (se2/len(c_list))*100\n",
    "ve_percent = (ve2/len(c_list))*100\n",
    "vi_percent = (vi2/len(c_list))*100\n",
    "print (se_percent,ve_percent,vi_percent)"
   ]
  },
  {
   "cell_type": "code",
   "execution_count": 12,
   "metadata": {},
   "outputs": [
    {
     "data": {
      "text/plain": [
       "<function matplotlib.pyplot.show>"
      ]
     },
     "execution_count": 12,
     "metadata": {},
     "output_type": "execute_result"
    },
    {
     "data": {
      "image/png": "[encoded data removed]",
      "text/plain": [
       "<matplotlib.figure.Figure at 0x1a1562a780>"
      ]
     },
     "metadata": {},
     "output_type": "display_data"
    }
   ],
   "source": [
    "plt.figure(figsize=(6,9))\n",
    "labels = [u'Iris-Setosa',u'Iris-Versicolour',u'Iris-Virginica']\n",
    "#Iris-Setosa 山鸢尾\n",
    "#Iris-Versicolour 杂色鸢尾\n",
    "#Iris-Virginica 维吉尼亚鸢尾\n",
    "sizes = [se_percent,ve_percent,vi_percent]\n",
    "colors = ['blue','orange','gray']\n",
    "explode = (0.05,0,0)\n",
    "plt.pie(sizes,explode=explode,labels=labels,colors=colors,\n",
    "                                labeldistance = 1.1,autopct = '%3.1f%%',shadow = False,\n",
    "                                startangle = 90,pctdistance = 0.6)\n",
    "plt.axis('equal')\n",
    "plt.legend()\n",
    "plt.show"
   ]
  },
  {
   "cell_type": "code",
   "execution_count": null,
   "metadata": {},
   "outputs": [],
   "source": []
  }
 ],
 "metadata": {
  "kernelspec": {
   "display_name": "Python 3",
   "language": "python",
   "name": "python3"
  },
  "language_info": {
   "codemirror_mode": {
    "name": "ipython",
    "version": 3
   },
   "file_extension": ".py",
   "mimetype": "text/x-python",
   "name": "python",
   "nbconvert_exporter": "python",
   "pygments_lexer": "ipython3",
   "version": "3.6.4"
  }
 },
 "nbformat": 4,
 "nbformat_minor": 2
}
