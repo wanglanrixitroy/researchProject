{
 "cells": [
  {
   "cell_type": "code",
   "execution_count": 1,
   "metadata": {},
   "outputs": [],
   "source": [
    "import torch\n",
    "import torch.nn as nn\n",
    "#from torch.nn import Module, Linear\n",
    "import numpy as np\n",
    "from torch.autograd import Variable\n",
    "import torchvision.datasets as dset\n",
    "import torchvision.transforms as transforms\n",
    "import torch.nn.functional as F\n",
    "import torch.optim as optim\n",
    "import random\n",
    "#from matplotlib import pyplot as plt\n",
    "%matplotlib inline"
   ]
  },
  {
   "cell_type": "markdown",
   "metadata": {},
   "source": [
    "show dataset"
   ]
  },
  {
   "cell_type": "code",
   "execution_count": 2,
   "metadata": {},
   "outputs": [
    {
     "data": {
      "text/plain": [
       "[<matplotlib.lines.Line2D at 0x10e6949e8>]"
      ]
     },
     "execution_count": 2,
     "metadata": {},
     "output_type": "execute_result"
    },
    {
     "data": {
      "image/png": "[encoded data removed]",
      "text/plain": [
       "<matplotlib.figure.Figure at 0x10e638f28>"
      ]
     },
     "metadata": {},
     "output_type": "display_data"
    }
   ],
   "source": [
    "import random\n",
    "from matplotlib import pyplot as plt\n",
    "f = plt.figure(figsize=(16,10))\n",
    "M = 100\n",
    "a_list = [random.uniform(1,3) for i in range(M)]\n",
    "b_list = [random.uniform(2,5) for i in range(M)]   \n",
    "\n",
    "ax3 = f.add_subplot(111)\n",
    "ax3.plot(a_list,np.zeros(len(a_list)),marker='o',color='r')\n",
    "ax3.plot(b_list,np.zeros(len(b_list)),marker='o',color='g')\n",
    "ax3.plot([0,5],[0,0],color='b',linestyle='--') "
   ]
  },
  {
   "cell_type": "code",
   "execution_count": 3,
   "metadata": {},
   "outputs": [
    {
     "name": "stdout",
     "output_type": "stream",
     "text": [
      "[1.72910016 1.73591742 1.65734361 2.48079694 2.47167498 2.01496202\n",
      " 2.32512823 2.31018494 1.88829409 1.2890372  1.98729752 1.12981424\n",
      " 2.94843503 2.90650337 1.36069667 1.03336569 2.96286805 1.52274813\n",
      " 2.79714888 2.38480028 1.75469588 1.17645896 2.72816086 2.08193456\n",
      " 1.09838609 1.76861878 1.76339646 1.96740585 1.0117214  2.89042155\n",
      " 1.30869161 1.04516688 2.51956842 1.04122881 2.17183523 2.48733998\n",
      " 1.78004975 1.10990144 1.2147433  1.08662319 2.2691172  1.04656395\n",
      " 2.73666837 1.22829488 1.18203183 1.71642486 2.54906664 2.18581165\n",
      " 2.00551924 2.58437549 1.85869558 1.43757029 2.82801499 2.21392594\n",
      " 1.11501161 1.08449934 1.23925886 2.36239423 2.34539258 2.00635798\n",
      " 2.75908201 1.13484883 2.68627776 1.96645818 1.85644987 2.24216361\n",
      " 1.36395367 2.4538378  1.02959648 1.35785997 2.97173843 1.2068391\n",
      " 2.34882994 1.39060481 1.42537942 1.96698742 2.23987351 1.02343657\n",
      " 1.15853582 1.45767565 1.75850447 2.77790526 2.26563367 2.08788339\n",
      " 1.99763231 2.47989662 1.09757408 2.97146947 1.31209196 1.92439401\n",
      " 1.61322916 1.06413987 2.0875011  2.24268656 1.2599106  2.18621268\n",
      " 1.96197933 1.84310865 2.09947099 1.35775407]\n",
      "[3.04624643 4.55723166 2.11562635 2.25890319 2.8499526  2.44604808\n",
      " 4.83836483 3.01930023 3.16691345 4.79456187 2.3865832  2.92801286\n",
      " 4.66471741 2.65753269 2.2857573  4.90114979 2.69298733 2.19989401\n",
      " 2.56363422 4.03133179 2.63607287 4.99178137 2.47849509 3.62110965\n",
      " 4.75686832 2.56373001 4.4431121  4.82640475 3.29367497 2.18404616\n",
      " 3.4638175  4.19699882 2.14370012 3.56493987 4.81021798 4.63660909\n",
      " 3.33557141 4.75534587 2.73786102 2.9674864  4.6224355  2.41280526\n",
      " 2.32149227 3.40597514 3.26408848 4.48058757 3.16062573 3.86348636\n",
      " 2.29412871 4.86342092 4.4906794  2.37358536 4.52737848 3.15334885\n",
      " 2.04871448 2.2363368  4.9976752  3.42028173 4.51809528 4.01238804\n",
      " 2.94174468 2.86052289 2.78773439 2.26822767 4.17904704 2.96783744\n",
      " 2.03327516 3.11051178 2.7238107  4.92167095 4.23038508 2.00443497\n",
      " 2.27997539 4.85234242 4.2486558  2.01050089 2.83069206 2.23690009\n",
      " 4.00306646 2.80898431 3.07371308 2.23188654 3.81254024 4.75167506\n",
      " 3.8280821  2.29933638 3.78060437 4.12108102 3.20360326 2.68171652\n",
      " 2.54827994 4.15825714 2.09089044 2.68383703 4.15546674 2.8184912\n",
      " 4.25480072 2.01117092 4.25788169 4.25958656]\n"
     ]
    }
   ],
   "source": [
    "a_dataset = np.array(a_list)\n",
    "print (a_dataset.flatten())\n",
    "b_dataset = np.array(b_list)\n",
    "print (b_dataset)"
   ]
  },
  {
   "cell_type": "code",
   "execution_count": null,
   "metadata": {},
   "outputs": [],
   "source": []
  },
  {
   "cell_type": "code",
   "execution_count": 4,
   "metadata": {},
   "outputs": [],
   "source": [
    "class Mlp(nn.Module):\n",
    "    def __init__(self):\n",
    "        super(Mlp, self).__init__()\n",
    "        self.fc1 = nn.Linear(1,1000)\n",
    "        self.fc2 = nn.Linear(1000,2)\n",
    "    def foward(self,x):\n",
    "        x = F.relu(self.fc1(a))\n",
    "        x = F.relu(self.fc2(x))\n",
    "        return F.log_softmax(x,dim=1)"
   ]
  },
  {
   "cell_type": "code",
   "execution_count": 36,
   "metadata": {},
   "outputs": [
    {
     "name": "stdout",
     "output_type": "stream",
     "text": [
      "[0.61312604]\n",
      "tensor([[ 0.6131]])\n",
      "tensor([[ 0.6131]])\n"
     ]
    }
   ],
   "source": [
    "real = a_dataset.flatten()\n",
    "fake = b_dataset.flatten()\n",
    "samples = np.concatenate((real, fake))\n",
    "\n",
    "left, right = samples.min(), samples.max()\n",
    "#print (samples.min())\n",
    "#print (samples.max())\n",
    "margin = (right - left) / 10\n",
    "#print (margin)\n",
    "#print (left - margin)\n",
    "#print (right + margin)\n",
    "left -= margin\n",
    "right += margin\n",
    "#print (left)\n",
    "\n",
    "#print (right)\n",
    "\n",
    "test_pts = np.linspace(left, right, 1).astype('float32')\n",
    "test_pts_t = torch.from_numpy(test_pts.reshape(-1, 1))\n",
    "print (test_pts)\n",
    "print (test_pts_t)\n",
    "print (Variable(test_pts_t))\n",
    "#print (test_pts)\n",
    "model = Mlp()\n",
    "#print (test_pts.shape)\n",
    "#scores = model(Variable(test_pts_t)).data.cpu().numpy().flatten()\n",
    "\n",
    "#scores = model(10)"
   ]
  },
  {
   "cell_type": "code",
   "execution_count": 5,
   "metadata": {},
   "outputs": [],
   "source": [
    "is_cuda = False\n",
    "if torch.cuda.is_available():\n",
    "    is_cuda = True\n",
    "\n",
    "model = Mlp()\n",
    "if is_cuda:\n",
    "    model.cuda()"
   ]
  },
  {
   "cell_type": "code",
   "execution_count": 21,
   "metadata": {},
   "outputs": [
    {
     "name": "stdout",
     "output_type": "stream",
     "text": [
      "100\n"
     ]
    }
   ],
   "source": [
    "bs = len(real)\n",
    "print (bs)\n",
    "ones_label  = torch.ones(bs, 1)\n",
    "#print (ones_label)\n",
    "zeros_label = torch.zeros(bs, 1)"
   ]
  },
  {
   "cell_type": "code",
   "execution_count": 64,
   "metadata": {},
   "outputs": [],
   "source": [
    "#def weights_init_msra(m):\n",
    "    \"\"\"\n",
    "    Modified version of msra init\n",
    "    \"\"\"\n",
    "#    classname = m.__class__.__name__\n",
    "#    if classname.find('Linear') != -1:\n",
    "#        m.weight.data.normal_(0.0, np.sqrt(2.0 / m.in_features))\n",
    "#        m.bias.data.fill_(0.02)\n",
    "#    elif classname.find('BatchNorm') != -1:\n",
    "#        m.weight.data.normal_(1.0, 0.02)\n",
    "#        m.bias.data.fill_(0.0)"
   ]
  },
  {
   "cell_type": "code",
   "execution_count": 6,
   "metadata": {},
   "outputs": [],
   "source": [
    "def weights_init(m):\n",
    "    classname = m.__class__.__name__\n",
    "    m.weight.data.normal_(0.0, np.sqrt(2.0 / m.in_features))\n",
    "    m.bias.data.fill_(0.02)"
   ]
  },
  {
   "cell_type": "code",
   "execution_count": null,
   "metadata": {},
   "outputs": [],
   "source": [
    "def train_discriminator(net, real_dataset, fake_dataset):\n",
    "    real = real_dataset.flatten()\n",
    "    fake = fake_dataset.flatten()\n",
    "    samples = np.concatenate((real, fake))\n",
    "    bs = len(real)\n",
    "    ones_label  = torch.ones(bs, 1)\n",
    "    zeros_label = torch.zeros(bs, 1)\n",
    "    \n",
    "    #net.apply(weights_init)\n",
    "    optimizer   = optim.Adam(net.parameter(), lr=0.01, betas=(0.5, 0.9))\n",
    "    prob_D_real, prob_D_fake = 0., 0.\n",
    "    \n",
    "    left, right = samples.min(), samples.max()\n",
    "    margin = (right - left) / 10\n",
    "    left -= margin\n",
    "    right += margin\n",
    "\n",
    "    test_pts = np.linspace(left, right, 1000).astype('float32')\n",
    "    test_pts_gpu = torch.from_numpy(test_pts.reshape(-1, 1)).cuda()\n",
    "    \n",
    "    for it in range(1, 10001):\n",
    "        net.zero_grad()\n",
    "        x_real = Variable(torch.from_numpy(real.astype('float32')))\n",
    "        x_fake = Variable(torch.from_numpy(fake.astype('float32')))\n",
    "        \n",
    "        loss_real = loss(net(x_real), Variable(ones_label))\n",
    "        loss_fake = loss(net(x_fake), Variable(zeros_label))\n",
    "        \n",
    "        loss_real.backward()\n",
    "        loss_fake.backward()\n",
    "        \n",
    "        prob_real += np.exp(-loss_real.data[0])\n",
    "        prob_fake += 1 - np.exp(-loss_fake.data[0])\n",
    "        \n",
    "        \n",
    "        \n",
    "        if it % 100 == 0 or it == 1:\n",
    "            prob_real /= 100\n",
    "            prob_fake /= 100\n",
    "            fig_w, fig_h, dpi = 800, 600, 100\n",
    "            titlestr = f'iter {it}/{iteration}, probability for real: {prob_D_real:.7}, fake: {prob_D_fake:.7}'\n",
    "            print(titlestr)\n",
    "            fig = plt.figure(figsize=(fig_w/dpi, fig_h/dpi), dpi=dpi)\n",
    "            ax  = fig.add_subplot(111)\n",
    "            \n",
    "            real_sample = real.flatten()\n",
    "            fake_sample = fake.flatten()\n",
    "\n",
    "            scores = net(Variable(test_pts_gpu)).data.cpu().numpy()\n",
    "\n",
    "            ax.scatter(real_sample, np.zeros(real_sample.shape), c='red', marker='+', s=100, label='real')\n",
    "            ax.scatter(fake_sample, np.zeros(fake_sample.shape), c='blue', marker='x', s=100, label='fake')\n",
    "            ax.plot(test_pts, scores)\n",
    "            plt.ylim([-0.1, 1.1])\n",
    "            plt.xlim([left, right])\n",
    "\n",
    "            plt.xticks(fontsize=12)\n",
    "            plt.yticks(fontsize=12)\n",
    "            plt.title(titlestr, fontsize=12)\n",
    "            plt.legend(loc=2, fontsize=12)\n",
    "            plt.tight_layout()\n",
    "            plt.savefig(f'{workdir}/{it:06}.png')\n",
    "\n",
    "            plt.close('all')\n",
    "\n",
    "            prob_D_real = 0.\n",
    "            prob_D_fake = 0."
   ]
  },
  {
   "cell_type": "code",
   "execution_count": null,
   "metadata": {},
   "outputs": [],
   "source": [
    "def get_discriminator():\n",
    "    return Mlp()"
   ]
  },
  {
   "cell_type": "code",
   "execution_count": null,
   "metadata": {},
   "outputs": [],
   "source": [
    "if __name__ == \"__main__\":\n",
    "    netD = get_discriminator()\n",
    "    print(netD)\n",
    "\n",
    "    train_discriminator(netD, a_dataset, b_dataset)"
   ]
  },
  {
   "cell_type": "code",
   "execution_count": null,
   "metadata": {},
   "outputs": [],
   "source": []
  },
  {
   "cell_type": "code",
   "execution_count": 14,
   "metadata": {},
   "outputs": [],
   "source": [
    "def train_discriminator(D, real_dataset, fake_dataset, iteration=10000, draw_iter=100, lr=0.0001):\n",
    "\n",
    "    real_sample = real_dataset.flatten()\n",
    "    fake_sample = fake_dataset.flatten()\n",
    "    samples = np.concatenate((real_sample, fake_sample))\n",
    "\n",
    "    left, right = samples.min(), samples.max()\n",
    "    margin = (right - left) / 10\n",
    "    left -= margin\n",
    "    right += margin\n",
    "\n",
    "    test_pts = np.linspace(left, right, 1000).astype('float32')\n",
    "    test_pts_gpu = torch.from_numpy(test_pts.reshape(-1, 1)).cuda()\n",
    "\n",
    "    bs = real_dataset.shape\n",
    "    D.apply(weights_init_msra)\n",
    "    D = D.cuda()\n",
    "\n",
    "    optimizer   = optim.Adam(D.parameters(), lr=lr, betas=(0.5, 0.9))\n",
    "    ones_label  = torch.ones(bs, 1).cuda()\n",
    "    zeros_label = torch.zeros(bs, 1).cuda()\n",
    "    loss        = nn.BCELoss()\n",
    "\n",
    "    prob_D_real, prob_D_fake = 0., 0.\n",
    "    for it in range(1, iteration + 1):\n",
    "        D.zero_grad()\n",
    "        # Sample data\n",
    "        x_fake = Variable(torch.from_numpy(fake_dataset.batch_next().astype('float32'))).cuda()\n",
    "        x_real = Variable(torch.from_numpy(real_dataset.batch_next().astype('float32'))).cuda()\n",
    "\n",
    "        loss_fake = loss(D(x_fake), Variable(zeros_label))\n",
    "        loss_real = loss(D(x_real), Variable(ones_label))\n",
    "\n",
    "        loss_fake.backward()\n",
    "        loss_real.backward()\n",
    "\n",
    "        prob_D_real += np.exp(-loss_real.data[0])\n",
    "        prob_D_fake += 1 - np.exp(-loss_fake.data[0])\n",
    "\n",
    "        optimizer.step()\n",
    "\n",
    "        if it % draw_iter == 0 or it == 1:\n",
    "            prob_D_real /= draw_iter\n",
    "            prob_D_fake /= draw_iter\n",
    "\n",
    "            fig_w, fig_h, dpi = 800, 600, 100\n",
    "\n",
    "            titlestr = f'iter {it}/{iteration}, probability for real: {prob_D_real:.7}, fake: {prob_D_fake:.7}'\n",
    "            print(titlestr)\n",
    "\n",
    "            fig = plt.figure(figsize=(fig_w/dpi, fig_h/dpi), dpi=dpi)\n",
    "            ax  = fig.add_subplot(111)\n",
    "\n",
    "            real_sample = real_dataset.batch_next(32).flatten()\n",
    "            fake_sample = fake_dataset.batch_next(32).flatten()\n",
    "\n",
    "            scores = D(Variable(test_pts_gpu)).data.cpu().numpy().flatten()\n",
    "\n",
    "            ax.scatter(real_sample, np.zeros(real_sample.shape), c='red', marker='+', s=100, label='real')\n",
    "            ax.scatter(fake_sample, np.zeros(fake_sample.shape), c='blue', marker='x', s=100, label='fake')\n",
    "            ax.plot(test_pts, scores)\n",
    "            plt.ylim([-0.1, 1.1])\n",
    "            plt.xlim([left, right])\n",
    "\n",
    "            plt.xticks(fontsize=12)\n",
    "            plt.yticks(fontsize=12)\n",
    "            plt.title(titlestr, fontsize=12)\n",
    "            plt.legend(loc=2, fontsize=12)\n",
    "            plt.tight_layout()\n",
    "            plt.savefig(f'{workdir}/{it:06}.png')\n",
    "\n",
    "            plt.close('all')\n",
    "\n",
    "            prob_D_real = 0.\n",
    "            prob_D_fake = 0."
   ]
  }
 ],
 "metadata": {
  "kernelspec": {
   "display_name": "Python 3",
   "language": "python",
   "name": "python3"
  },
  "language_info": {
   "codemirror_mode": {
    "name": "ipython",
    "version": 3
   },
   "file_extension": ".py",
   "mimetype": "text/x-python",
   "name": "python",
   "nbconvert_exporter": "python",
   "pygments_lexer": "ipython3",
   "version": "3.6.4"
  }
 },
 "nbformat": 4,
 "nbformat_minor": 2
}
